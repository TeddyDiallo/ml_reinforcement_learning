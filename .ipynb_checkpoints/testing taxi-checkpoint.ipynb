{
 "cells": [
  {
   "cell_type": "code",
   "execution_count": 26,
   "id": "b17d5e03",
   "metadata": {},
   "outputs": [],
   "source": [
    "import gymnasium as gym\n",
    "from gymnasium.wrappers import RescaleAction\n",
    "import numpy as np\n",
    "import pickle, os"
   ]
  },
  {
   "cell_type": "code",
   "execution_count": 34,
   "id": "dba64a54",
   "metadata": {},
   "outputs": [
    {
     "data": {
      "text/plain": [
       "<TimeLimit<OrderEnforcing<PassiveEnvChecker<TaxiEnv<Taxi-v3>>>>>"
      ]
     },
     "execution_count": 34,
     "metadata": {},
     "output_type": "execute_result"
    }
   ],
   "source": [
    "env = gym.make(\"Taxi-v3\", render_mode = 'human')\n",
    "env"
   ]
  },
  {
   "cell_type": "code",
   "execution_count": 35,
   "id": "a07db084",
   "metadata": {},
   "outputs": [
    {
     "data": {
      "text/plain": [
       "14"
      ]
     },
     "execution_count": 35,
     "metadata": {},
     "output_type": "execute_result"
    }
   ],
   "source": [
    "state = env.reset()\n",
    "state = state[0]\n",
    "state"
   ]
  },
  {
   "cell_type": "code",
   "execution_count": 30,
   "id": "5d84afae",
   "metadata": {},
   "outputs": [
    {
     "data": {
      "text/plain": [
       "500"
      ]
     },
     "execution_count": 30,
     "metadata": {},
     "output_type": "execute_result"
    }
   ],
   "source": [
    "env.observation_space.n"
   ]
  },
  {
   "cell_type": "code",
   "execution_count": 36,
   "id": "047ed054",
   "metadata": {},
   "outputs": [],
   "source": [
    "env.render()"
   ]
  },
  {
   "cell_type": "code",
   "execution_count": 37,
   "id": "7d109f3c",
   "metadata": {},
   "outputs": [
    {
     "data": {
      "text/plain": [
       "14"
      ]
     },
     "execution_count": 37,
     "metadata": {},
     "output_type": "execute_result"
    }
   ],
   "source": [
    "state"
   ]
  },
  {
   "cell_type": "code",
   "execution_count": 38,
   "id": "3fe314a6",
   "metadata": {},
   "outputs": [],
   "source": [
    "env.render()"
   ]
  },
  {
   "cell_type": "code",
   "execution_count": 39,
   "id": "1da21198",
   "metadata": {},
   "outputs": [],
   "source": [
    "n_states = env.observation_space.n\n",
    "n_actions = env.action_space.n"
   ]
  },
  {
   "cell_type": "code",
   "execution_count": 40,
   "id": "da40e56b",
   "metadata": {},
   "outputs": [
    {
     "data": {
      "text/plain": [
       "6"
      ]
     },
     "execution_count": 40,
     "metadata": {},
     "output_type": "execute_result"
    }
   ],
   "source": [
    "n_actions"
   ]
  },
  {
   "cell_type": "code",
   "execution_count": 41,
   "id": "65396b2f",
   "metadata": {},
   "outputs": [],
   "source": [
    "env.env.s = 150"
   ]
  },
  {
   "cell_type": "code",
   "execution_count": 42,
   "id": "82947fdd",
   "metadata": {},
   "outputs": [],
   "source": [
    "env.render()"
   ]
  },
  {
   "cell_type": "code",
   "execution_count": 43,
   "id": "0e68128f",
   "metadata": {},
   "outputs": [
    {
     "data": {
      "text/plain": [
       "(14,\n",
       " -1,\n",
       " False,\n",
       " False,\n",
       " {'prob': 1.0, 'action_mask': array([1, 0, 1, 0, 0, 0], dtype=int8)})"
      ]
     },
     "execution_count": 43,
     "metadata": {},
     "output_type": "execute_result"
    }
   ],
   "source": [
    "env.step(1)"
   ]
  },
  {
   "cell_type": "code",
   "execution_count": 44,
   "id": "e435930b",
   "metadata": {},
   "outputs": [],
   "source": [
    "state = env.reset()\n",
    "counter = 0\n",
    "g = 0\n",
    "reward = None"
   ]
  },
  {
   "cell_type": "code",
   "execution_count": 48,
   "id": "d63bd82a",
   "metadata": {},
   "outputs": [],
   "source": [
    "while reward != 20:\n",
    "    state, reward, done, extra, info = env.step(env.action_space.sample())\n",
    "    counter += 1\n",
    "    g += reward"
   ]
  },
  {
   "cell_type": "code",
   "execution_count": 49,
   "id": "7ca8eb39",
   "metadata": {},
   "outputs": [
    {
     "name": "stdout",
     "output_type": "stream",
     "text": [
      "Solved in 1549 steps with a total reward of -6460\n"
     ]
    }
   ],
   "source": [
    "print (\"Solved in {} steps with a total reward of {}\".format(counter, g))"
   ]
  },
  {
   "cell_type": "code",
   "execution_count": 51,
   "id": "cc7d0bd7",
   "metadata": {},
   "outputs": [
    {
     "data": {
      "text/plain": [
       "array([[0., 0., 0., 0., 0., 0.],\n",
       "       [0., 0., 0., 0., 0., 0.],\n",
       "       [0., 0., 0., 0., 0., 0.],\n",
       "       ...,\n",
       "       [0., 0., 0., 0., 0., 0.],\n",
       "       [0., 0., 0., 0., 0., 0.],\n",
       "       [0., 0., 0., 0., 0., 0.]])"
      ]
     },
     "execution_count": 51,
     "metadata": {},
     "output_type": "execute_result"
    }
   ],
   "source": [
    "Q = np.zeros([n_states, n_actions])\n",
    "Q"
   ]
  },
  {
   "cell_type": "code",
   "execution_count": 52,
   "id": "37f98f7e",
   "metadata": {},
   "outputs": [],
   "source": [
    "episodes = 1 #number of episodes for learning \n",
    "G = 0 #the goal state\n",
    "alpha = 0.618 #the learning rate "
   ]
  },
  {
   "cell_type": "code",
   "execution_count": 54,
   "id": "981f1abf",
   "metadata": {},
   "outputs": [
    {
     "name": "stdout",
     "output_type": "stream",
     "text": [
      "Initial State = 294\n"
     ]
    }
   ],
   "source": [
    "for episode in range(1, episodes+1):\n",
    "    done = False\n",
    "    G, reward = 0,0 \n",
    "    state = env.reset()\n",
    "    state = state[0]\n",
    "    firstState = state\n",
    "    print(\"Initial State = {}\".format(state))\n",
    "    while reward != 20:\n",
    "        action = np.argmax(Q[state])\n",
    "        state2, reward, done, extra, info = env.step(action)\n",
    "        Q[state,action] += alpha * (reward + np.max(Q[state2]) - Q[state,action])\n",
    "        G += reward\n",
    "        state = state2"
   ]
  },
  {
   "cell_type": "code",
   "execution_count": 55,
   "id": "f0729c41",
   "metadata": {},
   "outputs": [],
   "source": [
    "finalState = state"
   ]
  },
  {
   "cell_type": "code",
   "execution_count": 56,
   "id": "c1f968b8",
   "metadata": {},
   "outputs": [
    {
     "data": {
      "text/plain": [
       "410"
      ]
     },
     "execution_count": 56,
     "metadata": {},
     "output_type": "execute_result"
    }
   ],
   "source": [
    "finalState"
   ]
  },
  {
   "cell_type": "code",
   "execution_count": 57,
   "id": "4a93a0f2",
   "metadata": {},
   "outputs": [
    {
     "data": {
      "text/plain": [
       "294"
      ]
     },
     "execution_count": 57,
     "metadata": {},
     "output_type": "execute_result"
    }
   ],
   "source": [
    "firstState"
   ]
  },
  {
   "cell_type": "code",
   "execution_count": 59,
   "id": "c49e046d",
   "metadata": {},
   "outputs": [
    {
     "data": {
      "text/plain": [
       "410"
      ]
     },
     "execution_count": 59,
     "metadata": {},
     "output_type": "execute_result"
    }
   ],
   "source": [
    "finalState"
   ]
  },
  {
   "cell_type": "code",
   "execution_count": 60,
   "id": "b4161baf",
   "metadata": {},
   "outputs": [
    {
     "data": {
      "text/plain": [
       "array([[ 0.      ,  0.      ,  0.      ,  0.      ,  0.      ,  0.      ],\n",
       "       [ 0.      ,  0.      ,  0.      ,  0.      ,  0.      ,  0.      ],\n",
       "       [ 0.      ,  0.      ,  0.      ,  0.      ,  0.      ,  0.      ],\n",
       "       ...,\n",
       "       [ 0.      ,  0.      ,  0.      ,  0.      ,  0.      ,  0.      ],\n",
       "       [-1.236   , -0.854076, -1.236   , -1.236   , -6.18    , -6.18    ],\n",
       "       [ 0.      ,  0.      ,  0.      ,  0.      ,  0.      ,  0.      ]])"
      ]
     },
     "execution_count": 60,
     "metadata": {},
     "output_type": "execute_result"
    }
   ],
   "source": [
    "Q"
   ]
  },
  {
   "cell_type": "code",
   "execution_count": 61,
   "id": "e4386f14",
   "metadata": {},
   "outputs": [],
   "source": [
    "episodes = 3000\n",
    "rewardTracker = []"
   ]
  },
  {
   "cell_type": "code",
   "execution_count": 62,
   "id": "3e306353",
   "metadata": {},
   "outputs": [],
   "source": [
    "G = 0\n",
    "alpha = 0.618"
   ]
  },
  {
   "cell_type": "code",
   "execution_count": 63,
   "id": "b008148f",
   "metadata": {},
   "outputs": [
    {
     "name": "stdout",
     "output_type": "stream",
     "text": [
      "Episode 100 Total Reward -78\n",
      "Episode 200 Total Reward 11\n",
      "Episode 300 Total Reward 10\n",
      "Episode 400 Total Reward 11\n",
      "Episode 500 Total Reward 6\n",
      "Episode 600 Total Reward 7\n",
      "Episode 700 Total Reward 9\n",
      "Episode 800 Total Reward 10\n",
      "Episode 900 Total Reward 6\n",
      "Episode 1000 Total Reward 7\n",
      "Episode 1100 Total Reward 9\n",
      "Episode 1200 Total Reward 9\n",
      "Episode 1300 Total Reward 8\n",
      "Episode 1400 Total Reward 8\n",
      "Episode 1500 Total Reward 8\n",
      "Episode 1600 Total Reward 8\n",
      "Episode 1700 Total Reward 8\n",
      "Episode 1800 Total Reward 8\n",
      "Episode 1900 Total Reward 11\n",
      "Episode 2000 Total Reward 6\n",
      "Episode 2100 Total Reward 11\n",
      "Episode 2200 Total Reward 13\n",
      "Episode 2300 Total Reward 6\n",
      "Episode 2400 Total Reward 8\n",
      "Episode 2500 Total Reward 5\n",
      "Episode 2600 Total Reward 10\n",
      "Episode 2700 Total Reward 12\n",
      "Episode 2800 Total Reward 8\n",
      "Episode 2900 Total Reward 8\n",
      "Episode 3000 Total Reward 9\n"
     ]
    }
   ],
   "source": [
    "for episode in range(1, episodes+1):\n",
    "    done = False\n",
    "    G, reward = 0,0\n",
    "    state = env.reset()\n",
    "    state = state[0]\n",
    "    while done != True:\n",
    "        action = np.argmax(Q[state])\n",
    "        state2, reward, done, extra, info = env.step(action)\n",
    "        Q[state, action] += alpha * ((reward + (np.max(Q[state2])) - Q[state, action]))\n",
    "        G += reward\n",
    "        state = state2\n",
    "    \n",
    "    if episode % 100 == 0:\n",
    "        print('Episode {} Total Reward {}'.format(episode, G))"
   ]
  },
  {
   "cell_type": "code",
   "execution_count": 64,
   "id": "00f44505",
   "metadata": {},
   "outputs": [
    {
     "data": {
      "text/plain": [
       "[]"
      ]
     },
     "execution_count": 64,
     "metadata": {},
     "output_type": "execute_result"
    }
   ],
   "source": [
    "rewardTracker"
   ]
  },
  {
   "cell_type": "code",
   "execution_count": 68,
   "id": "291a934a",
   "metadata": {},
   "outputs": [],
   "source": [
    "state = env.reset()\n",
    "state = state[0]\n",
    "done = None"
   ]
  },
  {
   "cell_type": "code",
   "execution_count": 71,
   "id": "1b78cb22",
   "metadata": {},
   "outputs": [],
   "source": [
    "while done!= True:\n",
    "    #we take the action with the highest Q value\n",
    "    action = np.argmax(Q[state])\n",
    "    state, reward, done, extra, info = env.step(action)\n",
    "    env.render()"
   ]
  },
  {
   "cell_type": "code",
   "execution_count": null,
   "id": "ac262ae4",
   "metadata": {},
   "outputs": [],
   "source": []
  }
 ],
 "metadata": {
  "kernelspec": {
   "display_name": "Python 3 (ipykernel)",
   "language": "python",
   "name": "python3"
  },
  "language_info": {
   "codemirror_mode": {
    "name": "ipython",
    "version": 3
   },
   "file_extension": ".py",
   "mimetype": "text/x-python",
   "name": "python",
   "nbconvert_exporter": "python",
   "pygments_lexer": "ipython3",
   "version": "3.11.4"
  }
 },
 "nbformat": 4,
 "nbformat_minor": 5
}
