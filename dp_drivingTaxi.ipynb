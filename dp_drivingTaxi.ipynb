{
 "cells": [
  {
   "cell_type": "code",
   "execution_count": 73,
   "id": "d8bda5d5",
   "metadata": {},
   "outputs": [
    {
     "data": {
      "text/plain": [
       "'\\n0. Move South\\n1. Move North\\n2. Move East\\n3. Move West\\n4. Pickup a passenger\\n5. Drop off a passenger\\n'"
      ]
     },
     "execution_count": 73,
     "metadata": {},
     "output_type": "execute_result"
    }
   ],
   "source": [
    "# Import the necessary libraries\n",
    "import numpy as np\n",
    "import gymnasium as gym\n",
    "from IPython.display import clear_output\n",
    "import time\n",
    "\n",
    "# Create the Taxi-v3 environment\n",
    "env = gym.make('Taxi-v3', render_mode = 'human')\n",
    "\n",
    "'''\n",
    "0. Move South\n",
    "1. Move North\n",
    "2. Move East\n",
    "3. Move West\n",
    "4. Pickup a passenger\n",
    "5. Drop off a passenger\n",
    "'''\n"
   ]
  },
  {
   "cell_type": "code",
   "execution_count": 74,
   "id": "3eff3fc1",
   "metadata": {},
   "outputs": [
    {
     "name": "stdout",
     "output_type": "stream",
     "text": [
      "Value iteration function defined.\n"
     ]
    }
   ],
   "source": [
    "def value_iteration(env, gamma=0.9, threshold=0.001):\n",
    "    \"\"\"\n",
    "    Perform value iteration for the given environment.\n",
    "\n",
    "    Args:\n",
    "        env: The Gym environment.\n",
    "        gamma: Discount factor for future rewards.\n",
    "        threshold: Convergence threshold for value iteration.\n",
    "\n",
    "    Returns:\n",
    "        A tuple of (value_table, policy), where:\n",
    "        - value_table is a numpy array containing the value of each state.\n",
    "        - policy is a numpy array containing the best action for each state.\n",
    "    \"\"\"\n",
    "    \n",
    "    # Initialize value table with zeros, one for each environment state\n",
    "    value_table = np.zeros(env.observation_space.n)\n",
    "    \n",
    "    # Keep iterating until value changes are below the threshold\n",
    "    while True:\n",
    "        # Keep a copy of the value table to check for convergence\n",
    "        updated_value_table = np.copy(value_table)\n",
    "        \n",
    "        # Update the value for each state\n",
    "        for state in range(env.observation_space.n):\n",
    "            # Compute the value of each action\n",
    "            Q_values = [sum([prob * (reward + gamma * updated_value_table[next_state]) \n",
    "                             for prob, next_state, reward, _ in env.P[state][action]])\n",
    "                        for action in range(env.action_space.n)]\n",
    "            # Update the value for this state to the maximum Q value\n",
    "            value_table[state] = max(Q_values)\n",
    "        \n",
    "        # Check if values have converged (change is less than threshold)\n",
    "        if np.sum(np.fabs(updated_value_table - value_table)) <= threshold:\n",
    "            break\n",
    "    \n",
    "    # Extract the policy from the value table by choosing the action with the highest value\n",
    "    policy = np.zeros(env.observation_space.n, dtype=int)\n",
    "    for state in range(env.observation_space.n):\n",
    "        Q_values = [sum([prob * (reward + gamma * value_table[next_state]) \n",
    "                         for prob, next_state, reward, _ in env.P[state][action]])\n",
    "                    for action in range(env.action_space.n)]\n",
    "        policy[state] = np.argmax(Q_values)\n",
    "    \n",
    "    return value_table, policy\n",
    "\n",
    "print(\"Value iteration function defined.\")\n"
   ]
  },
  {
   "cell_type": "code",
   "execution_count": 75,
   "id": "21503b67",
   "metadata": {},
   "outputs": [
    {
     "name": "stdout",
     "output_type": "stream",
     "text": [
      "Optimal value function and policy computed.\n"
     ]
    }
   ],
   "source": [
    "# Apply value iteration to the environment to find the optimal value function and policy\n",
    "optimal_value_function, optimal_policy = value_iteration(env, gamma=0.9, threshold=1e-10)\n",
    "\n",
    "print(\"Optimal value function and policy computed.\")\n"
   ]
  },
  {
   "cell_type": "code",
   "execution_count": 76,
   "id": "8d488563",
   "metadata": {
    "scrolled": true
   },
   "outputs": [
    {
     "name": "stdout",
     "output_type": "stream",
     "text": [
      "Step: 14, Action: Dropoff, Reward: 20, Total Reward: 6\n",
      "The agent has successfully completed its task!\n",
      "Total reward from the episode: 6\n"
     ]
    }
   ],
   "source": [
    "def run_with_optimal_policy(env, policy, max_steps=100):\n",
    "    \"\"\"\n",
    "    Runs and renders an episode using the optimal policy.\n",
    "\n",
    "    Args:\n",
    "        env: The Gym environment.\n",
    "        policy: The optimal policy to follow.\n",
    "        max_steps: The maximum number of steps to run the simulation for.\n",
    "\n",
    "    Returns:\n",
    "        total_reward: The total reward accumulated in the episode.\n",
    "    \"\"\"\n",
    "    current_state = env.reset()\n",
    "    total_reward = 0\n",
    "    for step in range(max_steps):\n",
    "        # Clear the output cell to make the animation\n",
    "        clear_output(wait=True)\n",
    "        \n",
    "        # Render the environment's current state\n",
    "        env.render()\n",
    "        \n",
    "        # If the state is a tuple (which it should not normally be), we handle it\n",
    "        if isinstance(current_state, tuple):\n",
    "            current_state = current_state[0]\n",
    "            \n",
    "        # Select the action based on the optimal policy\n",
    "        action = policy[current_state]\n",
    "        \n",
    "        # Step the environment with the selected action\n",
    "        step_result = env.step(action)\n",
    "        \n",
    "        # Update the current state, reward, and done flag from the step result\n",
    "        current_state = step_result[0]\n",
    "        reward = step_result[1]\n",
    "        done = step_result[2]\n",
    "        \n",
    "        # Accumulate the reward\n",
    "        total_reward += reward\n",
    "        \n",
    "        # Print current step, action taken, and the reward received\n",
    "        action_names = ['South', 'North', 'East', 'West', 'Pickup', 'Dropoff']\n",
    "        print(f\"Step: {step}, Action: {action_names[action]}, Reward: {reward}, Total Reward: {total_reward}\")\n",
    "        \n",
    "        # If the episode is finished, break the loop\n",
    "        if done:\n",
    "            print(\"The agent has successfully completed its task!\")\n",
    "            break\n",
    "        \n",
    "        # Pause for a short time to watch the animation\n",
    "        time.sleep(0.5)\n",
    "\n",
    "    # Close the environment to free resources\n",
    "    env.close()\n",
    "    return total_reward\n",
    "\n",
    "# Run the visualization function to see the taxi agent in action\n",
    "total_reward = run_with_optimal_policy(env, optimal_policy)\n",
    "print(f\"Total reward from the episode: {total_reward}\")\n"
   ]
  },
  {
   "cell_type": "code",
   "execution_count": 71,
   "id": "9acbb3af",
   "metadata": {},
   "outputs": [
    {
     "data": {
      "text/plain": [
       "'\\'def create_env():\\n    return gym.make(\\'Taxi-v3\\')\\ndef run_multiple_episodes_with_optimal_policy(env_creator, policy, num_episodes=10, max_steps=100):\\n    episode_rewards = []\\n    for episode in range(num_episodes):\\n        env = env_creator()  # Create a new environment for each episode\\n        total_reward = run_with_optimal_policy(env, policy, max_steps)\\n        episode_rewards.append(total_reward)\\n        print(f\"Episode {episode}: Total Reward: {total_reward}\")\\n    return episode_rewards\\nepisode_rewards = run_multiple_episodes_with_optimal_policy(create_env, optimal_policy, num_episodes=10)\\nprint(f\"Average reward over 10 episodes: {np.mean(episode_rewards)}\")'"
      ]
     },
     "execution_count": 71,
     "metadata": {},
     "output_type": "execute_result"
    }
   ],
   "source": [
    "''''def create_env():\n",
    "    return gym.make('Taxi-v3')\n",
    "def run_multiple_episodes_with_optimal_policy(env_creator, policy, num_episodes=10, max_steps=100):\n",
    "    episode_rewards = []\n",
    "    for episode in range(num_episodes):\n",
    "        env = env_creator()  # Create a new environment for each episode\n",
    "        total_reward = run_with_optimal_policy(env, policy, max_steps)\n",
    "        episode_rewards.append(total_reward)\n",
    "        print(f\"Episode {episode}: Total Reward: {total_reward}\")\n",
    "    return episode_rewards\n",
    "episode_rewards = run_multiple_episodes_with_optimal_policy(create_env, optimal_policy, num_episodes=10)\n",
    "print(f\"Average reward over 10 episodes: {np.mean(episode_rewards)}\")'''\n"
   ]
  },
  {
   "cell_type": "code",
   "execution_count": null,
   "id": "7af44b1d",
   "metadata": {},
   "outputs": [],
   "source": []
  },
  {
   "cell_type": "code",
   "execution_count": null,
   "id": "6e62c686",
   "metadata": {},
   "outputs": [],
   "source": []
  },
  {
   "cell_type": "code",
   "execution_count": null,
   "id": "a9b33d54",
   "metadata": {},
   "outputs": [],
   "source": []
  }
 ],
 "metadata": {
  "kernelspec": {
   "display_name": "Python 3 (ipykernel)",
   "language": "python",
   "name": "python3"
  },
  "language_info": {
   "codemirror_mode": {
    "name": "ipython",
    "version": 3
   },
   "file_extension": ".py",
   "mimetype": "text/x-python",
   "name": "python",
   "nbconvert_exporter": "python",
   "pygments_lexer": "ipython3",
   "version": "3.11.4"
  }
 },
 "nbformat": 4,
 "nbformat_minor": 5
}
